{
 "cells": [
  {
   "cell_type": "markdown",
   "metadata": {},
   "source": [
    "# Env setup"
   ]
  },
  {
   "cell_type": "code",
   "execution_count": 1,
   "metadata": {},
   "outputs": [],
   "source": [
    "%load_ext autoreload\n",
    "\n",
    "%autoreload 2"
   ]
  },
  {
   "cell_type": "code",
   "execution_count": 2,
   "metadata": {},
   "outputs": [],
   "source": [
    "import boto3\n",
    "import pandas as pd\n",
    "import numpy as np\n",
    "import configparser\n",
    "import psycopg2\n",
    "from faker import Faker\n",
    "import constants as cons"
   ]
  },
  {
   "cell_type": "markdown",
   "metadata": {},
   "source": [
    "# Reading configuration file and credentials"
   ]
  },
  {
   "cell_type": "code",
   "execution_count": 20,
   "metadata": {},
   "outputs": [
    {
     "data": {
      "text/plain": [
       "['config.cfg']"
      ]
     },
     "execution_count": 20,
     "metadata": {},
     "output_type": "execute_result"
    }
   ],
   "source": [
    "config = configparser.ConfigParser()\n",
    "\n",
    "config.read(cons.CONFIG_FILE)"
   ]
  },
  {
   "cell_type": "code",
   "execution_count": 11,
   "metadata": {},
   "outputs": [],
   "source": [
    "aws_rds_conn = boto3.client('rds', aws_access_key_id=config.get(cons.USER, cons.ACCESS_KEY),\n",
    "                            aws_secret_access_key=config.get(cons.USER, cons.SECRET_KEY),\n",
    "                            region_name='us-east-1'\n",
    "                            )"
   ]
  },
  {
   "cell_type": "markdown",
   "metadata": {},
   "source": [
    "# Checking available instances for user"
   ]
  },
  {
   "cell_type": "code",
   "execution_count": 12,
   "metadata": {},
   "outputs": [
    {
     "name": "stdout",
     "output_type": "stream",
     "text": [
      "Available instances: []\n"
     ]
    }
   ],
   "source": [
    "rds_instances_ids = []\n",
    "aws_response = aws_rds_conn.describe_db_instances()\n",
    "\n",
    "for response in aws_response['DBInstances']:\n",
    "    rds_instances_ids.append(response['DBInstanceIdentifier'])\n",
    "\n",
    "print(f'Available instances: {rds_instances_ids}')"
   ]
  },
  {
   "cell_type": "code",
   "execution_count": 21,
   "metadata": {},
   "outputs": [],
   "source": [
    "try: \n",
    "    response = aws_rds_conn.create_db_instance(\n",
    "        DBInstanceIdentifier=config.get(cons.DB, cons.INSTANCE_ID),\n",
    "        DBName=config.get(cons.DB, cons.DB_NAME),\n",
    "        MasterUsername=config.get(cons.DB, cons.DB_USERNAME),\n",
    "        MasterUserPassword=config.get(cons.DB, cons.DB_PASSWORD),\n",
    "        Port=int(config.get(cons.DB, cons.PORT)),\n",
    "        DBInstanceClass= cons.INSTANCE_CLASS,\n",
    "        Engine=cons.ENGINE,\n",
    "        PubliclyAccessible=True,\n",
    "        AllocatedStorage=cons.ALLOC_STORAGE,\n",
    "        VpcSecurityGroupIds=[config.get(cons.VPC, cons.SEC_GROUP)]\n",
    "    )\n",
    "except aws_rds_conn.exceptions.DBInstanceAlreadyExistsFault:\n",
    "    print(\"La instancia ya existe\")\n",
    "except Exception as ex:\n",
    "    print(\"Error!! \", ex)"
   ]
  },
  {
   "cell_type": "markdown",
   "metadata": {},
   "source": []
  }
 ],
 "metadata": {
  "kernelspec": {
   "display_name": "base",
   "language": "python",
   "name": "python3"
  },
  "language_info": {
   "codemirror_mode": {
    "name": "ipython",
    "version": 3
   },
   "file_extension": ".py",
   "mimetype": "text/x-python",
   "name": "python",
   "nbconvert_exporter": "python",
   "pygments_lexer": "ipython3",
   "version": "3.11.8"
  }
 },
 "nbformat": 4,
 "nbformat_minor": 2
}
