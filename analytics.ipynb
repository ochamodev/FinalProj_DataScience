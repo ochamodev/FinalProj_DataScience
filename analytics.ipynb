{
 "cells": [
  {
   "cell_type": "code",
   "execution_count": 3,
   "id": "055f56ca-86bc-4d43-87d3-fb2f00008070",
   "metadata": {},
   "outputs": [],
   "source": [
    "# librerias analytics\n",
    "import pandas as pd\n",
    "import numpy as np\n",
    "import seaborn as sns\n",
    "import matplotlib as plt\n",
    "\n",
    "# librerias db\n",
    "import boto3\n",
    "import psycopg2\n",
    "import pymysql\n",
    "import configparser\n",
    "\n",
    "# librerias para generar datos\n",
    "import random\n",
    "from faker import Faker\n",
    "from datetime import datetime\n",
    "\n",
    "# referencias de archivos\n",
    "import constants as cons\n",
    "import ddl"
   ]
  },
  {
   "cell_type": "markdown",
   "id": "e067cf00-10ea-421b-97f6-215ba28f007e",
   "metadata": {},
   "source": [
    "# CONN con RDS"
   ]
  },
  {
   "cell_type": "code",
   "execution_count": 17,
   "id": "e741e76a-b72b-402a-a5a5-47b745c1bd17",
   "metadata": {},
   "outputs": [
    {
     "data": {
      "text/plain": [
       "['config.cfg']"
      ]
     },
     "execution_count": 17,
     "metadata": {},
     "output_type": "execute_result"
    }
   ],
   "source": [
    "config = configparser.ConfigParser()\n",
    "config.read(cons.CONFIG_FILE)"
   ]
  },
  {
   "cell_type": "code",
   "execution_count": 18,
   "id": "3b737022-fe50-480b-9b92-a0877c10a8b4",
   "metadata": {},
   "outputs": [],
   "source": [
    "rds_conn = boto3.client(\n",
    "    'rds',\n",
    "    aws_access_key_id=config.get(cons.USER, cons.ACCESS_KEY),\n",
    "    aws_secret_access_key=config.get(cons.USER, cons.SECRET_KEY),\n",
    "    region_name='us-east-1'\n",
    ")"
   ]
  },
  {
   "cell_type": "code",
   "execution_count": 19,
   "id": "b4fb3210-672a-42ef-932f-58dc660949e2",
   "metadata": {},
   "outputs": [
    {
     "name": "stdout",
     "output_type": "stream",
     "text": [
      "La instancia 'ja3plqub98cr' utiliza el motor de base de datos 'mysql'\n",
      "La instancia 'xux3br0jo1lp' utiliza el motor de base de datos 'postgres'\n"
     ]
    }
   ],
   "source": [
    "rds_instances_ids = []\n",
    "aws_response = rds_conn.describe_db_instances()\n",
    "\n",
    "for db_instance in aws_response['DBInstances']:\n",
    "    db_instance_identifier = db_instance['DBInstanceIdentifier']\n",
    "    db_engine = db_instance['Engine']\n",
    "    if (db_engine == 'mysql'):\n",
    "      aws_mysql = db_instance\n",
    "    else:\n",
    "      aws_postgres = db_instance\n",
    "    print(f\"La instancia '{db_instance_identifier}' utiliza el motor de base de datos '{db_engine}'\")"
   ]
  },
  {
   "cell_type": "code",
   "execution_count": 20,
   "id": "bb8df263-260c-4457-9014-8cbff6e92468",
   "metadata": {},
   "outputs": [
    {
     "name": "stdout",
     "output_type": "stream",
     "text": [
      "xux3br0jo1lp.cr0suguo232c.us-east-1.rds.amazonaws.com\n"
     ]
    }
   ],
   "source": [
    "try:\n",
    "    instance = rds_conn.describe_db_instances(\n",
    "        DBInstanceIdentifier=config.get(cons.DB, cons.INSTANCE_ID)\n",
    "    )\n",
    "    RDS_HOSTNAME = instance.get('DBInstances')[0].get('Endpoint').get('Address')\n",
    "    print(RDS_HOSTNAME)\n",
    "except Exception as ex:\n",
    "    print(\"Error!! \", ex)"
   ]
  },
  {
   "cell_type": "code",
   "execution_count": 28,
   "id": "7c6cedcd-2e9c-4256-81cd-562065092325",
   "metadata": {},
   "outputs": [],
   "source": [
    "pg_conn = psycopg2.connect(\n",
    "    dbname=config.get(cons.DB, cons.DB_NAME), \n",
    "    user=config.get(cons.DB, cons.DB_USERNAME),\n",
    "    password=config.get(cons.DB, cons.DB_PASSWORD),\n",
    "    port=int(config.get('DB', 'DB_PORT')),\n",
    "    host=RDS_HOSTNAME\n",
    ")"
   ]
  },
  {
   "cell_type": "markdown",
   "id": "ad9b15cc-d14d-4875-9486-3eb3b270b32b",
   "metadata": {},
   "source": [
    "# Preguntas de Negocio"
   ]
  },
  {
   "cell_type": "code",
   "execution_count": 22,
   "id": "5cf9bcd4-4ee7-4b3c-8b67-cfe5df3bb1c4",
   "metadata": {},
   "outputs": [],
   "source": [
    "def get_data(conn, query):\n",
    "    return pd.read_sql_query(query, conn)"
   ]
  },
  {
   "cell_type": "code",
   "execution_count": 29,
   "id": "208fd73f-ed13-4c6d-9ee7-a484c52f200e",
   "metadata": {},
   "outputs": [],
   "source": [
    "def get_data(conn, query):\n",
    "    cursor = conn.cursor()\n",
    "    try:\n",
    "        cursor.execute(query)\n",
    "        result = cursor.fetchall()\n",
    "        col_names = [desc[0] for desc in cursor.description]\n",
    "        df = pd.DataFrame(result, columns=col_names)\n",
    "        return df\n",
    "    except Exception as e:\n",
    "        print(f\"Error: {e}\")\n",
    "        return pd.DataFrame()\n",
    "    finally:\n",
    "        cursor.close()"
   ]
  },
  {
   "cell_type": "code",
   "execution_count": 30,
   "id": "443cdf1c-d651-48a8-926c-237baa4ce9bb",
   "metadata": {},
   "outputs": [],
   "source": [
    "query_prueba = \"SELECT * from dimFechas;\""
   ]
  },
  {
   "cell_type": "code",
   "execution_count": 31,
   "id": "480b03db-27e7-43ee-8b7c-3693390e85a1",
   "metadata": {},
   "outputs": [],
   "source": [
    "datos = get_data(pg_conn, query_prueba)"
   ]
  },
  {
   "cell_type": "code",
   "execution_count": 32,
   "id": "7d6720bb-7998-438c-b007-7d035b29b067",
   "metadata": {},
   "outputs": [
    {
     "data": {
      "text/html": [
       "<div>\n",
       "<style scoped>\n",
       "    .dataframe tbody tr th:only-of-type {\n",
       "        vertical-align: middle;\n",
       "    }\n",
       "\n",
       "    .dataframe tbody tr th {\n",
       "        vertical-align: top;\n",
       "    }\n",
       "\n",
       "    .dataframe thead th {\n",
       "        text-align: right;\n",
       "    }\n",
       "</style>\n",
       "<table border=\"1\" class=\"dataframe\">\n",
       "  <thead>\n",
       "    <tr style=\"text-align: right;\">\n",
       "      <th></th>\n",
       "      <th>idfecha</th>\n",
       "      <th>fecha_completa</th>\n",
       "      <th>dia_semana</th>\n",
       "      <th>num_dia_mes</th>\n",
       "      <th>dia_nombre</th>\n",
       "      <th>dia_abrev</th>\n",
       "      <th>semana_bandera</th>\n",
       "      <th>mes</th>\n",
       "      <th>mes_nombre</th>\n",
       "      <th>cuarto</th>\n",
       "      <th>anio</th>\n",
       "      <th>campo_timestamp</th>\n",
       "    </tr>\n",
       "  </thead>\n",
       "  <tbody>\n",
       "  </tbody>\n",
       "</table>\n",
       "</div>"
      ],
      "text/plain": [
       "Empty DataFrame\n",
       "Columns: [idfecha, fecha_completa, dia_semana, num_dia_mes, dia_nombre, dia_abrev, semana_bandera, mes, mes_nombre, cuarto, anio, campo_timestamp]\n",
       "Index: []"
      ]
     },
     "execution_count": 32,
     "metadata": {},
     "output_type": "execute_result"
    }
   ],
   "source": [
    "datos"
   ]
  },
  {
   "cell_type": "markdown",
   "id": "9611c1bc-4b52-416b-9cc3-0b91fc52722c",
   "metadata": {},
   "source": [
    "## 1. Articulos Mas Vendidos\n",
    "\n",
    "### ¿Cuáles son los artículos más vendidos según distintos períodos de tiempos?"
   ]
  },
  {
   "cell_type": "code",
   "execution_count": null,
   "id": "32b2fdca-f96f-4ca9-8b3b-84c3e8ab905e",
   "metadata": {},
   "outputs": [],
   "source": [
    "best_selling_query = \"\"\"\n",
    "SELECT \n",
    "    anio AS year,\n",
    "    mes_nombre AS month,\n",
    "    nombre,\n",
    "    SUM(cantidad) AS cantidad_total\n",
    "FROM hechos h\n",
    "JOIN dimArticulo dA ON h.idArticulo = dA.idarticulo\n",
    "JOIN dimFechas dF ON h.idFecha = dF.idFecha\n",
    "GROUP BY year, month, nombre\n",
    "ORDER BY year, month, cantidad_total DESC\n",
    "LIMIT 5;\n",
    "\"\"\"\n",
    "best_selling_df = get_data(pg_conn, best_selling_query)\n",
    "\n",
    "\n",
    "worst_selling_query = \"\"\"\n",
    "SELECT \n",
    "    anio AS year,\n",
    "    mes_nombre AS month,\n",
    "    nombre,\n",
    "    SUM(cantidad) AS cantidad_total\n",
    "FROM hechos h\n",
    "JOIN dimArticulo dA ON h.idArticulo = dA.idarticulo\n",
    "JOIN dimFechas dF ON h.idFecha = dF.idFecha\n",
    "GROUP BY year, month, nombre\n",
    "ORDER BY year, month, cantidad_total ASC\n",
    "LIMIT 5;\n",
    "\"\"\"\n",
    "\n",
    "worst_selling_df = get_data(pg_conn, worst_selling_query)\n",
    "\n",
    "# Display the summary tables\n",
    "print(\"Top 5 productos por mes\")\n",
    "print(best_selling_df)\n",
    "\n",
    "print(\"\\nPeores 5 productos por mes\")\n",
    "print(worst_selling_df)"
   ]
  },
  {
   "cell_type": "code",
   "execution_count": null,
   "id": "b2be87b6-8df4-4e73-ba03-057caaaea353",
   "metadata": {},
   "outputs": [],
   "source": [
    "annual_sales_query = \"\"\"\n",
    "SELECT \n",
    "    anio AS year,\n",
    "    dA.nombre,\n",
    "    SUM(h.cantidad) AS total_quantity\n",
    "FROM hechos h\n",
    "JOIN dimArticulo dA ON h.idArticulo = dA.idarticulo\n",
    "JOIN dimFechas dF ON h.idFecha = dF.idFecha\n",
    "GROUP BY year, dA.nombre\n",
    "ORDER BY year, total_quantity DESC;\n",
    "\"\"\"\n",
    "\n",
    "annual_sales_df = get_data(pg_conn, annual_sales_query)\n",
    "\n",
    "# top 10\n",
    "top_10_annual = annual_sales_df.groupby('year').apply(lambda x: x.nlargest(10, 'total_quantity')).reset_index(drop=True)\n",
    "\n",
    "# plot\n",
    "for year in top_10_annual['year'].unique():\n",
    "    plt.figure(figsize=(12, 6))\n",
    "    subset = top_10_annual[top_10_annual['year'] == year]\n",
    "    plt.bar(subset['nombre'], subset['total_quantity'], color='blue')\n",
    "    plt.title(f'Top 10 productos por año {year}')\n",
    "    plt.xlabel('Articulo')\n",
    "    plt.ylabel('Cantidad Vendida')\n",
    "    plt.xticks(rotation=90)\n",
    "    plt.show()"
   ]
  },
  {
   "cell_type": "markdown",
   "id": "cc7078f5-7280-48f5-b258-e130dc5cb718",
   "metadata": {},
   "source": [
    "## 2. Clientes nuevos\n",
    "### ¿Existe un cambio en que clientes nos compran, según distintos períodos??"
   ]
  },
  {
   "cell_type": "code",
   "execution_count": null,
   "id": "817f17c2-cdaa-4c2d-a58f-70494f3f5b34",
   "metadata": {},
   "outputs": [],
   "source": [
    "clients_query = \"\"\"\n",
    "SELECT \n",
    "    h.idPersona,\n",
    "    dF.anio AS year,\n",
    "    dF.mes_nombre AS month,\n",
    "    h.fecha,\n",
    "    h.cantidad,\n",
    "    h.total\n",
    "FROM hechos h\n",
    "JOIN dimFechas dF ON h.idFecha = dF.idFecha\n",
    "JOIN dimPersona dP ON h.idPersona = dP.idpersona\n",
    "WHERE dP.tipo_persona = 'Client';\n",
    "\"\"\"\n",
    "clients_df = get_data(pg_conn, clients_query)"
   ]
  },
  {
   "cell_type": "code",
   "execution_count": null,
   "id": "d669782b-20ae-42ba-a250-14e907c9ed66",
   "metadata": {},
   "outputs": [],
   "source": [
    "clients_df['fecha'] = pd.to_datetime(clients_df['fecha'])\n",
    "\n",
    "# fecha primera compra\n",
    "clients_df['first_purchase'] = clients_df.groupby('idPersona')['fecha'].transform('min')\n",
    "df_first_purchases = clients_df[clients_df['fecha'] == clients_df['first_purchase']]\n",
    "\n",
    "# df de nuevos clientes\n",
    "df_new_clients = df_first_purchases.sort_values(by=['idPersona', 'transaction_id']).drop_duplicates('idPersona')\n",
    "df_new_clients['month_of_first_purchase'] = df_new_clients['first_purchase'].dt.month\n",
    "df_new_clients['year_of_first_purchase'] = df_new_clients['first_purchase'].dt.year\n",
    "\n",
    "# cantidad e ingresos por cliente\n",
    "aggregated_data = clients_df.groupby(['idPersona', 'first_purchase']).agg(\n",
    "    quantity_month=('cantidad', 'sum'),\n",
    "    revenue_month=('total', 'sum')\n",
    ").reset_index()\n",
    "\n",
    "# agregar datos totales a df de clientes\n",
    "df_new_clients = df_new_clients.merge(aggregated_data, on=['idPersona', 'first_purchase'], how='left')\n",
    "\n",
    "# cantidad e ingresos por año\n",
    "yearly_aggregates = clients_df.groupby(['idPersona', df['fecha'].dt.year]).agg(\n",
    "    quantity_year=('cantidad', 'sum'),\n",
    "    revenue_year=('total', 'sum')\n",
    ").reset_index()\n",
    "\n",
    "# agregar totales por año a df de clientes\n",
    "df_new_clients = df_new_clients.merge(\n",
    "    yearly_aggregates, \n",
    "    left_on=['idPersona', 'year_of_first_purchase'], \n",
    "    right_on=['idPersona', 'fecha'], \n",
    "    how='left'\n",
    ")\n",
    "\n",
    "# renombrar\n",
    "df_new_clients = df_new_clients[[\n",
    "    'idPersona', 'first_purchase', 'month_of_first_purchase', \n",
    "    'year_of_first_purchase', 'quantity_month', 'quantity_year', \n",
    "    'revenue_month', 'revenue_year'\n",
    "]].drop_duplicates(subset=['idPersona'])  # unique \n",
    "\n",
    "# ver tabla\n",
    "print(df_new_clients.head())"
   ]
  },
  {
   "cell_type": "code",
   "execution_count": null,
   "id": "b3bba59b-a895-4b6b-940c-e7c4b60c9679",
   "metadata": {},
   "outputs": [],
   "source": [
    "# agrupar por mes para graficos\n",
    "monthly_data = df_new_clients.groupby(['year_of_first_purchase', 'month_of_first_purchase']).agg(\n",
    "    new_clients=pd.NamedAgg(column='idPersona', aggfunc='nunique'),  \n",
    "    total_quantity=pd.NamedAgg(column='quantity_month', aggfunc='sum'),  \n",
    "    total_revenue=pd.NamedAgg(column='revenue_month', aggfunc='sum')  \n",
    ").reset_index()\n",
    "\n",
    "monthly_data['date'] = pd.to_datetime(monthly_data[['year_of_first_purchase', 'month_of_first_purchase']].assign(day=1))\n",
    "\n",
    "# sort por fecha para graficar\n",
    "monthly_data = monthly_data.sort_values('date')"
   ]
  },
  {
   "cell_type": "code",
   "execution_count": null,
   "id": "1929ebb3-1509-4387-95e9-f8cf25abcd6d",
   "metadata": {},
   "outputs": [],
   "source": [
    "# PLOTS\n",
    "plt.figure(figsize=(12, 6))\n",
    "plt.plot(monthly_data['date'], monthly_data['new_clients'], marker='o', linestyle='-', color='blue', label='Clientes Nuevos')\n",
    "plt.title('Clientes nuevos por mes')\n",
    "plt.xlabel('Mes, Año')\n",
    "plt.ylabel('Número de clientes')\n",
    "plt.xticks(rotation=45)\n",
    "plt.grid(True)\n",
    "plt.legend()\n",
    "plt.show()\n",
    "\n",
    "# Plotting Total Quantity\n",
    "plt.figure(figsize=(12, 6))\n",
    "plt.plot(monthly_data['date'], monthly_data['total_quantity'], marker='o', linestyle='-', color='green', label='Cantidad de artículos total')\n",
    "plt.title('Cantidad de artículos comprados por clientes nuevos')\n",
    "plt.xlabel('Mes, Año')\n",
    "plt.ylabel('Cantidad total')\n",
    "plt.xticks(rotation=45)\n",
    "plt.grid(True)\n",
    "plt.legend()\n",
    "plt.show()\n",
    "\n",
    "# Plotting Total Revenue\n",
    "plt.figure(figsize=(12, 6))\n",
    "plt.plot(monthly_data['date'], monthly_data['total_revenue'], marker='o', linestyle='-', color='red', label='Ingresos totales')\n",
    "plt.title('Ingresos totales de clientes nuevos')\n",
    "plt.xlabel('Mes, Año')\n",
    "plt.ylabel('Ingresos totales')\n",
    "plt.xticks(rotation=45)\n",
    "plt.grid(True)\n",
    "plt.legend()\n",
    "plt.show()"
   ]
  },
  {
   "cell_type": "markdown",
   "id": "3a7f2984-8cbd-4d42-8e8f-d51059557c99",
   "metadata": {},
   "source": [
    "## 3. Estacionalidad de Ventas\n",
    "### ¿En qué periodo del año se vende más y en qué periodo se vende menos?"
   ]
  },
  {
   "cell_type": "code",
   "execution_count": null,
   "id": "04ed8e42-69b7-4ab4-9bf5-ddf46dfeeca8",
   "metadata": {},
   "outputs": [],
   "source": [
    "seasonality_query = \"\"\"\n",
    "SELECT \n",
    "    EXTRACT(YEAR FROM dF.fecha_completa) AS year,\n",
    "    EXTRACT(QUARTER FROM dF.fecha_completa) AS quarter,\n",
    "    EXTRACT(MONTH FROM dF.fecha_completa) AS month,\n",
    "    SUM(h.cantidad) AS total_quantity,\n",
    "    SUM(h.total) AS total_revenue\n",
    "FROM hechos h\n",
    "JOIN dimFechas dF ON h.idFecha = dF.idFecha\n",
    "GROUP BY year, quarter, month\n",
    "ORDER BY year, quarter, month;\n",
    "\"\"\""
   ]
  },
  {
   "cell_type": "code",
   "execution_count": null,
   "id": "e5478883-9105-43f4-a76c-7121e4fa1a02",
   "metadata": {},
   "outputs": [],
   "source": [
    "season_df = get_data(pg_conn, seasonality_query)"
   ]
  },
  {
   "cell_type": "code",
   "execution_count": null,
   "id": "125fcb60-96c3-499a-8069-4b3fac547afa",
   "metadata": {},
   "outputs": [],
   "source": [
    "plt.figure(figsize=(14, 7))\n",
    "plt.plot(seasonality_df['year'].astype(str) + '-' + seasonality_df['month'].astype(str), seasonality_df['total_quantity'], label='Cantidad Total', marker='o')\n",
    "plt.plot(seasonality_df['year'].astype(str) + '-' + seasonality_df['month'].astype(str), seasonality_df['total_revenue'], label='Ingresos Total', marker='o')\n",
    "plt.title('Estaacionallidad de ventas: Ingresos y Cantidad vendida')\n",
    "plt.xlabel('Año-Mes')\n",
    "plt.ylabel('Cantidad / Ingresos')\n",
    "plt.legend()\n",
    "plt.xticks(rotation=45)\n",
    "plt.grid(True)\n",
    "plt.show()"
   ]
  },
  {
   "cell_type": "markdown",
   "id": "6ae65a09-6422-4115-9ae1-e9f8c10cd573",
   "metadata": {},
   "source": [
    "## 4. Rentabilidad por producto\n",
    "### ¿Cuál es el producto que genera más ganancia? ¿Y el que genera menos?"
   ]
  },
  {
   "cell_type": "code",
   "execution_count": null,
   "id": "1f68747a-3dfe-48ff-91d2-60938cc61f2e",
   "metadata": {},
   "outputs": [],
   "source": [
    "profit_query = \"\"\"\n",
    "SELECT \n",
    "    dA.nombre,\n",
    "    SUM(h.ganancia) AS total_profit\n",
    "FROM hechos h\n",
    "JOIN dimArticulo dA ON h.idArticulo = dA.idarticulo\n",
    "GROUP BY dA.nombre\n",
    "ORDER BY total_profit DESC\n",
    "LIMIT 20;\n",
    "\"\"\"\n",
    "profit_df = get_data(pg_conn, profit_query)"
   ]
  },
  {
   "cell_type": "code",
   "execution_count": null,
   "id": "ae0142a3-b8fe-47d3-8c7f-ce13265eab6a",
   "metadata": {},
   "outputs": [],
   "source": [
    "# Bar plot for Profit per Product\n",
    "plt.figure(figsize=(12, 6))\n",
    "plt.bar(profit_df['nombre'], profit_df['total_profit'], color='green')\n",
    "plt.title('Rentabilidad por producto')\n",
    "plt.xlabel('Producto')\n",
    "plt.ylabel('Utilidad')\n",
    "plt.xticks(rotation=90)\n",
    "plt.show()"
   ]
  },
  {
   "cell_type": "markdown",
   "id": "49aa8711-71ab-45e8-ad23-0e4d6d78ea50",
   "metadata": {},
   "source": [
    "## 5. Rentabilidad por categorías\n",
    "### Existe alguna relación entre la categoría y la rentabilidad?"
   ]
  },
  {
   "cell_type": "code",
   "execution_count": null,
   "id": "fe9900ca-1a57-4811-ad67-554a37c92bc7",
   "metadata": {},
   "outputs": [],
   "source": [
    "category_query = \"\"\"\n",
    "SELECT \n",
    "    dA.categoria,\n",
    "    SUM(h.ganancia) AS total_profit,\n",
    "    SUM(h.total) AS total_sales\n",
    "FROM hechos h\n",
    "JOIN dimArticulo dA ON h.idArticulo = dA.idarticulo\n",
    "GROUP BY dA.categoria\n",
    "ORDER BY total_profit DESC\n",
    "LIMIT 10;\n",
    "\"\"\"\n",
    "category_df = get_data(pg_conn, category_query)"
   ]
  },
  {
   "cell_type": "code",
   "execution_count": null,
   "id": "e642e2f1-0456-471e-bd09-c8d3c221ebee",
   "metadata": {},
   "outputs": [],
   "source": [
    "fig, ax1 = plt.subplots(figsize=(12, 6))\n",
    "ax2 = ax1.twinx()\n",
    "category_df.plot(kind='bar', x='categoria', y='total_profit', ax=ax1, position=1, color='blue', label='Utilidad Total')\n",
    "category_df.plot(kind='bar', x='categoria', y='total_sales', ax=ax2, position=0, color='green', label='Ingresos Total', alpha=0.6)\n",
    "ax1.set_title('Utilidad y ventas por categoría')\n",
    "ax1.set_xlabel('Categoría')\n",
    "ax1.set_ylabel('Utilidad')\n",
    "ax2.set_ylabel('Ventas')\n",
    "ax1.set_xticklabels(category_df['categoria'], rotation=45)\n",
    "ax1.legend(loc='upper left')\n",
    "ax2.legend(loc='upper right')\n",
    "plt.show()"
   ]
  }
 ],
 "metadata": {
  "kernelspec": {
   "display_name": "Python 3 (ipykernel)",
   "language": "python",
   "name": "python3"
  },
  "language_info": {
   "codemirror_mode": {
    "name": "ipython",
    "version": 3
   },
   "file_extension": ".py",
   "mimetype": "text/x-python",
   "name": "python",
   "nbconvert_exporter": "python",
   "pygments_lexer": "ipython3",
   "version": "3.11.8"
  }
 },
 "nbformat": 4,
 "nbformat_minor": 5
}
