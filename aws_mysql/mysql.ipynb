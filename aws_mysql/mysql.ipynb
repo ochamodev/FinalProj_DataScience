{
 "cells": [
  {
   "cell_type": "code",
   "execution_count": 1,
   "metadata": {},
   "outputs": [],
   "source": [
    "%load_ext autoreload\n",
    "\n",
    "%autoreload 2"
   ]
  },
  {
   "cell_type": "code",
   "execution_count": 3,
   "metadata": {},
   "outputs": [],
   "source": [
    "import boto3\n",
    "import pandas as pd\n",
    "import numpy as np\n",
    "import configparser\n",
    "import psycopg2\n",
    "from faker import Faker\n",
    "import constants as cons"
   ]
  },
  {
   "cell_type": "markdown",
   "metadata": {},
   "source": [
    "# Reading configuration file and credentials"
   ]
  },
  {
   "cell_type": "code",
   "execution_count": 8,
   "metadata": {},
   "outputs": [
    {
     "data": {
      "text/plain": [
       "['config_mysql_aws.cfg']"
      ]
     },
     "execution_count": 8,
     "metadata": {},
     "output_type": "execute_result"
    }
   ],
   "source": [
    "config = configparser.ConfigParser()\n",
    "\n",
    "config.read(cons.CONFIG_FILE)"
   ]
  },
  {
   "cell_type": "code",
   "execution_count": 10,
   "metadata": {},
   "outputs": [],
   "source": [
    "aws_rds_conn = boto3.client('rds', aws_access_key_id=config.get(cons.USER, cons.ACCESS_KEY),\n",
    "                            aws_secret_access_key=config.get(cons.USER, cons.SECRET_KEY),\n",
    "                            region_name='us-east-1'\n",
    "                            )"
   ]
  },
  {
   "cell_type": "code",
   "execution_count": 11,
   "metadata": {},
   "outputs": [
    {
     "name": "stdout",
     "output_type": "stream",
     "text": [
      "La instancia 'ja3plqub98cr' utiliza el motor de base de datos 'mysql'\n",
      "La instancia 'xux3br0jo1lp' utiliza el motor de base de datos 'postgres'\n"
     ]
    }
   ],
   "source": [
    "rds_instances_ids = []\n",
    "aws_response = aws_rds_conn.describe_db_instances()\n",
    "\n",
    "for db_instance in aws_response['DBInstances']:\n",
    "    db_instance_identifier = db_instance['DBInstanceIdentifier']\n",
    "    db_engine = db_instance['Engine']\n",
    "    if (db_engine == 'mysql'):\n",
    "      aws_mysql = db_instance\n",
    "    else:\n",
    "      aws_postgres = db_instance\n",
    "    print(f\"La instancia '{db_instance_identifier}' utiliza el motor de base de datos '{db_engine}'\")\n"
   ]
  },
  {
   "cell_type": "code",
   "execution_count": 30,
   "metadata": {},
   "outputs": [],
   "source": [
    "import mysql.connector"
   ]
  },
  {
   "cell_type": "code",
   "execution_count": 31,
   "metadata": {},
   "outputs": [],
   "source": [
    "import ddl"
   ]
  },
  {
   "cell_type": "code",
   "execution_count": 32,
   "metadata": {},
   "outputs": [],
   "source": [
    "try:\n",
    "    conexionMysql = mysql.connector.connect(\n",
    "\t\thost=aws_mysql['Endpoint']['Address'],  # Cambia esto por la dirección IP o el nombre del host de tu servidor MySQL\n",
    "\t\tuser=config.get(cons.DB, cons.DB_USERNAME),  # Cambia esto por tu nombre de usuario de MySQL\n",
    "\t\tpassword=config.get(cons.DB, cons.DB_PASSWORD),  # Cambia esto por tu contraseña de MySQL\n",
    "\t\tdatabase=config.get(cons.DB, cons.DB_NAME) # Cambia esto por el nombre de tu base de datos\n",
    "\t)\n",
    "    cursor = conexionMysql.cursor()\n",
    "    cursor.execute(ddl.DDL_QUERY, multi=True)\n",
    "except Exception as ex:\n",
    "    print(\"Error!!: \", ex)\n",
    "\n"
   ]
  }
 ],
 "metadata": {
  "kernelspec": {
   "display_name": "DSFinal",
   "language": "python",
   "name": "python3"
  },
  "language_info": {
   "codemirror_mode": {
    "name": "ipython",
    "version": 3
   },
   "file_extension": ".py",
   "mimetype": "text/x-python",
   "name": "python",
   "nbconvert_exporter": "python",
   "pygments_lexer": "ipython3",
   "version": "3.12.2"
  }
 },
 "nbformat": 4,
 "nbformat_minor": 2
}
