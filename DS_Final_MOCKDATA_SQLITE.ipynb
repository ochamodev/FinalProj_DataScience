{
  "nbformat": 4,
  "nbformat_minor": 0,
  "metadata": {
    "colab": {
      "provenance": [],
      "collapsed_sections": [
        "Lhg8yT5edFX9"
      ],
      "toc_visible": true,
      "authorship_tag": "ABX9TyN5D8/tO01fQlmjeuuroQGF"
    },
    "kernelspec": {
      "name": "python3",
      "display_name": "Python 3"
    },
    "language_info": {
      "name": "python"
    }
  },
  "cells": [
    {
      "cell_type": "code",
      "source": [
        "!pip install Faker\n",
        "!pip install psycopg2"
      ],
      "metadata": {
        "colab": {
          "base_uri": "https://localhost:8080/"
        },
        "id": "1JeVjukG4kd7",
        "outputId": "933db3ca-a7dc-4a7a-c30f-a56dadec060a"
      },
      "execution_count": null,
      "outputs": [
        {
          "output_type": "stream",
          "name": "stdout",
          "text": [
            "Requirement already satisfied: Faker in /usr/local/lib/python3.10/dist-packages (24.8.0)\n",
            "Requirement already satisfied: python-dateutil>=2.4 in /usr/local/lib/python3.10/dist-packages (from Faker) (2.8.2)\n",
            "Requirement already satisfied: six>=1.5 in /usr/local/lib/python3.10/dist-packages (from python-dateutil>=2.4->Faker) (1.16.0)\n",
            "Requirement already satisfied: psycopg2 in /usr/local/lib/python3.10/dist-packages (2.9.9)\n"
          ]
        }
      ]
    },
    {
      "cell_type": "code",
      "execution_count": null,
      "metadata": {
        "id": "cM9PG7Ko7rFv"
      },
      "outputs": [],
      "source": [
        "# library imports\n",
        "\n",
        "import pandas as pd\n",
        "import numpy as np\n",
        "import seaborn as sns\n",
        "import matplotlib as plt\n",
        "import random\n",
        "import pymysql\n",
        "import sqlite3\n",
        "from datetime import datetime\n",
        "\n",
        "from faker import Faker"
      ]
    },
    {
      "cell_type": "code",
      "source": [
        "from faker import Faker\n",
        "\n",
        "print(faker.__version__)"
      ],
      "metadata": {
        "colab": {
          "base_uri": "https://localhost:8080/",
          "height": 176
        },
        "id": "5A7KbplWuxeK",
        "outputId": "4135ceed-6e7a-44d6-dce9-2fa3934a611a"
      },
      "execution_count": null,
      "outputs": [
        {
          "output_type": "error",
          "ename": "AttributeError",
          "evalue": "module 'faker' has no attribute '__version__'",
          "traceback": [
            "\u001b[0;31m---------------------------------------------------------------------------\u001b[0m",
            "\u001b[0;31mAttributeError\u001b[0m                            Traceback (most recent call last)",
            "\u001b[0;32m<ipython-input-35-f4c1cbb69b3c>\u001b[0m in \u001b[0;36m<cell line: 3>\u001b[0;34m()\u001b[0m\n\u001b[1;32m      1\u001b[0m \u001b[0;32mfrom\u001b[0m \u001b[0mfaker\u001b[0m \u001b[0;32mimport\u001b[0m \u001b[0mFaker\u001b[0m\u001b[0;34m\u001b[0m\u001b[0;34m\u001b[0m\u001b[0m\n\u001b[1;32m      2\u001b[0m \u001b[0;34m\u001b[0m\u001b[0m\n\u001b[0;32m----> 3\u001b[0;31m \u001b[0mprint\u001b[0m\u001b[0;34m(\u001b[0m\u001b[0mfaker\u001b[0m\u001b[0;34m.\u001b[0m\u001b[0m__version__\u001b[0m\u001b[0;34m)\u001b[0m\u001b[0;34m\u001b[0m\u001b[0;34m\u001b[0m\u001b[0m\n\u001b[0m",
            "\u001b[0;31mAttributeError\u001b[0m: module 'faker' has no attribute '__version__'"
          ]
        }
      ]
    },
    {
      "cell_type": "markdown",
      "source": [
        "# FUNCTIONS TO GENERATE MOCK DATA"
      ],
      "metadata": {
        "id": "FBqb1TBjdT8f"
      }
    },
    {
      "cell_type": "code",
      "source": [
        "fake = Faker()"
      ],
      "metadata": {
        "id": "kCJcgWsH2jez"
      },
      "execution_count": null,
      "outputs": []
    },
    {
      "cell_type": "code",
      "source": [
        "# metodo para generar varias palabras random para los campos de descripcion\n",
        "def generate_text(words_number = 20):\n",
        "  words = fake.words(\n",
        "      nb = words_number,\n",
        "      ext_word_list = None,\n",
        "      unique = False\n",
        "  )\n",
        "  text = ' '.join(words).lower()\n",
        "  return text"
      ],
      "metadata": {
        "id": "X5hMtnG6JTru"
      },
      "execution_count": null,
      "outputs": []
    },
    {
      "cell_type": "code",
      "source": [
        "# categorias\n",
        "def generate_categorias():\n",
        "\n",
        "  category_data = []\n",
        "\n",
        "  category_names = [\n",
        "    \"Automotive\", \"Baby\", \"Beauty\", \"Books\", \"Clothing\",\n",
        "    \"Computers\", \"Electronics\", \"Games\", \"Garden\", \"Grocery\",\n",
        "    \"Health\", \"Home\", \"Industrial\", \"Jewelry\", \"Kids\",\n",
        "    \"Movies\", \"Music\", \"Outdoors\", \"Shoes\", \"Sports\",\n",
        "    \"Tools\", \"Toys\"\n",
        "    ]  # generated with mockaroo\n",
        "\n",
        "  for name in category_names:\n",
        "    nombre = name\n",
        "    descripcion = generate_text(10)\n",
        "    estado = random.randint(0, 1)\n",
        "    # sql = f\"INSERT INTO categoria(nombre, descripcion, estado) VALUES ({nombre}, {descripcion}, {estado});\"\n",
        "    category_data.append((nombre, descripcion, estado))\n",
        "\n",
        "  return category_data"
      ],
      "metadata": {
        "id": "PoXQkshDEFP1"
      },
      "execution_count": null,
      "outputs": []
    },
    {
      "cell_type": "code",
      "source": [
        "# articulos\n",
        "def generate_articulos():\n",
        "\n",
        "  product_data = []\n",
        "\n",
        "  for i in range(200):\n",
        "    idcategoria = random.randint(1, 22)\n",
        "    codigo = fake.ean13(prefixes=('45', '55'))\n",
        "    nombre = fake.word().capitalize()\n",
        "    precio_venta = round(random.uniform(1.0, 500.0), 2)\n",
        "    stock = random.randint(0, 1000)\n",
        "    descripcion = generate_text(10)\n",
        "    imagen = fake.file_name(category = 'image')\n",
        "    estado = random.randint(0, 1)\n",
        "\n",
        "    product_data.append( (idcategoria, codigo, nombre, precio_venta, stock, descripcion, imagen, estado) )\n",
        "\n",
        "  return product_data"
      ],
      "metadata": {
        "id": "QbNlieDdLm9s"
      },
      "execution_count": null,
      "outputs": []
    },
    {
      "cell_type": "code",
      "source": [
        "# roles\n",
        "def generate_roles():\n",
        "\n",
        "  role_data = []\n",
        "\n",
        "  roles = ['Administrator', 'Manager', 'Cashier']\n",
        "  for role in roles:\n",
        "    nombre = role\n",
        "    descripcion = generate_text(5)\n",
        "    estado = random.randint(0, 1)\n",
        "    role_data.append( (nombre, descripcion, estado) )\n",
        "\n",
        "  return role_data"
      ],
      "metadata": {
        "id": "axdWnjoPzMbe"
      },
      "execution_count": null,
      "outputs": []
    },
    {
      "cell_type": "code",
      "source": [
        "# usuarios, 50 en total\n",
        "def generate_usuarios():\n",
        "\n",
        "  user_data = []\n",
        "\n",
        "  for i in range(50):\n",
        "    nombre = fake.name()\n",
        "    tipo_documento = random.choice(['DPI', 'Passport'])\n",
        "    direccion = fake.street_address()\n",
        "    telefono = fake.phone_number()\n",
        "    email = fake.email()\n",
        "    clave = fake.password(length=12, special_chars=True, digits=True, upper_case=True, lower_case=True)\n",
        "    estado = random.randint(0, 1)\n",
        "\n",
        "    if i % 25 == 0:\n",
        "      idrol = 1\n",
        "    elif i % 10 == 0:\n",
        "      idrol = 2\n",
        "    else:\n",
        "      idrol = 3\n",
        "\n",
        "    if tipo_documento == 'Passport':\n",
        "      num_documento = fake.passport_number()\n",
        "    else:\n",
        "      num_documento = fake.random_number(digits=13)\n",
        "\n",
        "    user_data.append( (idrol, nombre, tipo_documento, num_documento, direccion, telefono, email, clave, estado) )\n",
        "\n",
        "  return user_data\n"
      ],
      "metadata": {
        "id": "EzcP23DC1HF4"
      },
      "execution_count": null,
      "outputs": []
    },
    {
      "cell_type": "code",
      "source": [
        "# personas , 100 proveedores y 500 clientes\n",
        "def generate_personas():\n",
        "\n",
        "  personas_data = []\n",
        "\n",
        "  # provedores\n",
        "  for i in range(100):\n",
        "    tipo_persona = 'Supplier'\n",
        "    nombre = fake.name()\n",
        "    tipo_documento = random.choice(['DPI', 'Passport'])\n",
        "    direccion = fake.street_address()\n",
        "    telefono = fake.phone_number()\n",
        "    email = fake.email()\n",
        "\n",
        "    if tipo_documento == 'Passport':\n",
        "      num_documento = fake.passport_number()\n",
        "    else:\n",
        "      num_documento = fake.random_number(digits=13)\n",
        "\n",
        "    personas_data.append( (tipo_persona, nombre, tipo_documento, num_documento, direccion, telefono, email) )\n",
        "\n",
        "  # clientes\n",
        "  for i in range(500):\n",
        "    tipo_persona = 'Client'\n",
        "    nombre = fake.name()\n",
        "    tipo_documento = random.choice(['DPI', 'Passport'])\n",
        "    direccion = fake.street_address()\n",
        "    telefono = fake.phone_number()\n",
        "    email = fake.email()\n",
        "\n",
        "    if tipo_documento == 'Passport':\n",
        "      num_documento = fake.passport_number()\n",
        "    else:\n",
        "      num_documento = fake.random_number(digits=13)\n",
        "\n",
        "    personas_data.append( (tipo_persona, nombre, tipo_documento, num_documento, direccion, telefono, email) )\n",
        "\n",
        "  return personas_data"
      ],
      "metadata": {
        "id": "Es_eseU14sfE"
      },
      "execution_count": null,
      "outputs": []
    },
    {
      "cell_type": "code",
      "source": [
        "# ingresos\n",
        "def generate_ingreso():\n",
        "    ingreso_data = []\n",
        "\n",
        "    for i in range(150):\n",
        "        idproveedor = random.randint(1, 100)\n",
        "        idusuario = random.randint(1, 50)\n",
        "        tipo_comprobante = random.choice(['Invoice', 'Receipt'])\n",
        "        serie_comprobante = fake.bothify(text='?').upper()\n",
        "        num_comprobante = serie_comprobante + fake.bothify(text='######')\n",
        "        fecha = fake.date_between(start_date = datetime(2020, 1, 1).date(), end_date = datetime(2023, 12, 31).date())\n",
        "        impuesto = round(random.uniform(0, 15), 2)\n",
        "        total = round(random.uniform(100, 10000), 2)\n",
        "        estado = random.choice(['Processed', 'Cancelled', 'Pending'])\n",
        "\n",
        "        ingreso_data.append((idproveedor, idusuario, tipo_comprobante, serie_comprobante, num_comprobante, fecha, impuesto, total, estado))\n",
        "\n",
        "    return ingreso_data"
      ],
      "metadata": {
        "id": "Dpl3VlpyHCxe"
      },
      "execution_count": null,
      "outputs": []
    },
    {
      "cell_type": "code",
      "source": [
        "# detalle ingresos\n",
        "def generate_detalle_ingreso():\n",
        "    detalle_data = []\n",
        "\n",
        "    for i in range(150):\n",
        "        idingreso = random.randint(1, 150)\n",
        "        idarticulo = random.randint(1, 300)\n",
        "        cantidad = random.randint(1, 2000)\n",
        "        precio = round(random.uniform(1.0, 1000.0), 2)\n",
        "\n",
        "        detalle_data.append((idingreso, idarticulo, cantidad, precio))\n",
        "\n",
        "    return detalle_data"
      ],
      "metadata": {
        "id": "X1a47GAwI5rZ"
      },
      "execution_count": null,
      "outputs": []
    },
    {
      "cell_type": "code",
      "source": [
        "# ventas\n",
        "def generate_venta():\n",
        "    venta_data = []\n",
        "\n",
        "    for i in range(1000):\n",
        "        idcliente = random.randint(110, 600)\n",
        "        idusuario = random.randint(1, 50)\n",
        "        tipo_comprobante = random.choice(['Invoice', 'Receipt'])\n",
        "        serie_comprobante = fake.bothify(text='?').upper()\n",
        "        num_comprobante = serie_comprobante + fake.bothify(text='######')\n",
        "        fecha = fake.date_between(start_date = datetime(2020, 1, 1).date(), end_date = datetime(2023, 12, 31).date())\n",
        "        impuesto = round(random.uniform(0, 15), 2)\n",
        "        total = round(random.uniform(100, 10000), 2)\n",
        "        estado = random.choice(['Processed', 'Cancelled', 'Pending'])\n",
        "\n",
        "        venta_data.append((idcliente, idusuario, tipo_comprobante, serie_comprobante, num_comprobante, fecha, impuesto, total, estado))\n",
        "\n",
        "    return venta_data"
      ],
      "metadata": {
        "id": "lBrF9md-JUST"
      },
      "execution_count": null,
      "outputs": []
    },
    {
      "cell_type": "code",
      "source": [
        "# detalle ventas\n",
        "\n",
        "def generate_detalle_venta():\n",
        "    detalle_venta_data = []\n",
        "\n",
        "    for i in range(10000):\n",
        "        idventa = random.randint(1, 1000)\n",
        "        idarticulo = random.randint(1, 300)\n",
        "        cantidad = random.randint(1, 10)\n",
        "        precio = round(random.uniform(1.0, 750.0), 2)\n",
        "        descuento = round(precio * random.uniform(0.05, 0.25), 2)\n",
        "\n",
        "        detalle_venta_data.append((idventa, idarticulo, cantidad, precio, descuento))\n",
        "\n",
        "    return detalle_venta_data"
      ],
      "metadata": {
        "id": "TV4DvrvgJv_d"
      },
      "execution_count": null,
      "outputs": []
    },
    {
      "cell_type": "markdown",
      "source": [
        "## GENERATE DATA"
      ],
      "metadata": {
        "id": "gqwOBE38dYse"
      }
    },
    {
      "cell_type": "code",
      "source": [
        "# generate data\n",
        "\n",
        "category_data = generate_categorias()\n",
        "product_data = generate_articulos()\n",
        "role_data = generate_roles()\n",
        "user_data = generate_usuarios()\n",
        "personas_data = generate_personas()\n",
        "ingreso_data = generate_ingreso()\n",
        "detalle_data = generate_detalle_ingreso()\n",
        "venta_data = generate_venta()\n",
        "detalle_venta_data = generate_detalle_venta()"
      ],
      "metadata": {
        "id": "-RVqenWFL4HV"
      },
      "execution_count": null,
      "outputs": []
    },
    {
      "cell_type": "markdown",
      "source": [
        "# BULK INSERT"
      ],
      "metadata": {
        "id": "OHZsVeQBdRE9"
      }
    },
    {
      "cell_type": "code",
      "source": [
        "# insertar varias categorias\n",
        "def bulk_insert(conn, insert_query, data_list):\n",
        "    cursor = conn.cursor()  # Create a cursor object using the connection\n",
        "    try:\n",
        "        # bulk insert\n",
        "        cursor.executemany(insert_query, data_list)\n",
        "        conn.commit()\n",
        "        print(\"Bulk data inserted successfully\")\n",
        "    except sqlite3.Error as error:\n",
        "        print(\"Error inserting bulk data\", error)\n",
        "    finally:\n",
        "        cursor.close()"
      ],
      "metadata": {
        "id": "V5sTm_5PP1x9"
      },
      "execution_count": null,
      "outputs": []
    },
    {
      "cell_type": "markdown",
      "source": [
        "# DB MYSQL"
      ],
      "metadata": {
        "id": "lsnCkOh5dctG"
      }
    },
    {
      "cell_type": "code",
      "source": [
        "# CREAR CONEXION MYSQL\n",
        "\n",
        "conn = pymysql.connect(host='localhost',\n",
        "                       user='username',\n",
        "                       password='password',\n",
        "                       database='database')"
      ],
      "metadata": {
        "id": "HC75lGP_eC6K"
      },
      "execution_count": null,
      "outputs": []
    },
    {
      "cell_type": "code",
      "source": [
        "cursor = conn.cursor()\n",
        "\n",
        "# CREAR TABLAS EN MYSQL\n",
        "\n",
        "cursor.execute('''\n",
        "    CREATE TABLE IF NOT EXISTS categoria (\n",
        "        idcategoria INT PRIMARY KEY AUTO_INCREMENT,\n",
        "        nombre VARCHAR(50) NOT NULL,\n",
        "        descripcion VARCHAR(255),\n",
        "        estado BIT\n",
        "    );\n",
        "''')\n",
        "\n",
        "cursor.execute('''\n",
        "    CREATE TABLE IF NOT EXISTS articulo (\n",
        "        idarticulo INT PRIMARY KEY AUTO_INCREMENT,\n",
        "        idcategoria INT,\n",
        "        codigo VARCHAR(50) NOT NULL,\n",
        "        nombre VARCHAR(100),\n",
        "        precio_venta DECIMAL(11, 2),\n",
        "        stock INT,\n",
        "        descripcion VARCHAR(255),\n",
        "        imagen VARCHAR(20),\n",
        "        estado BIT,\n",
        "        FOREIGN KEY (idcategoria) REFERENCES categoria(idcategoria)\n",
        "    );\n",
        "''')\n",
        "\n",
        "cursor.execute('''\n",
        "    CREATE TABLE IF NOT EXISTS persona(\n",
        "        idpersona INT PRIMARY KEY AUTO_INCREMENT,\n",
        "        tipo_persona VARCHAR(20),\n",
        "        nombre VARCHAR(100),\n",
        "        tipo_documento VARCHAR(20),\n",
        "        num_documento VARCHAR(20),\n",
        "        direccion VARCHAR(70),\n",
        "        telefono VARCHAR(20),\n",
        "        email VARCHAR(50)\n",
        "    );\n",
        "''')\n",
        "\n",
        "cursor.execute('''\n",
        "    CREATE TABLE IF NOT EXISTS rol(\n",
        "        idrol INT PRIMARY KEY AUTO_INCREMENT,\n",
        "        nombre VARCHAR(30) NOT NULL,\n",
        "        descripcion VARCHAR(255),\n",
        "        estado BIT\n",
        "    );\n",
        "''')\n",
        "\n",
        "cursor.execute('''\n",
        "    CREATE TABLE IF NOT EXISTS usuario(\n",
        "        idusuario INT PRIMARY KEY AUTO_INCREMENT,\n",
        "        idrol INT,\n",
        "        nombre VARCHAR(100),\n",
        "        tipo_documento VARCHAR(20),\n",
        "        num_documento VARCHAR(20),\n",
        "        direccion VARCHAR(20),\n",
        "        telefono VARCHAR(20),\n",
        "        email VARCHAR(50),\n",
        "        clave VARBINARY(255),\n",
        "        estado BIT,\n",
        "        FOREIGN KEY (idrol) REFERENCES rol(idrol)\n",
        "    );\n",
        "''')\n",
        "\n",
        "cursor.execute('''\n",
        "    CREATE TABLE IF NOT EXISTS ingreso(\n",
        "        idingreso INT PRIMARY KEY AUTO_INCREMENT,\n",
        "        idproveedor INT,\n",
        "        idusuario INT,\n",
        "        tipo_comprobante VARCHAR(20),\n",
        "        serie_comprobante VARCHAR(20),\n",
        "        num_comprobante VARCHAR(10),\n",
        "        fecha DATETIME,\n",
        "        impuesto DECIMAL(4, 2),\n",
        "        total DECIMAL(11, 2),\n",
        "        estado VARCHAR(20),\n",
        "        FOREIGN KEY (idproveedor) REFERENCES persona(idpersona),\n",
        "        FOREIGN KEY (idusuario) REFERENCES usuario(idusuario)\n",
        "    );\n",
        "''')\n",
        "\n",
        "cursor.execute('''\n",
        "    CREATE TABLE IF NOT EXISTS venta(\n",
        "        idventa INT PRIMARY KEY AUTO_INCREMENT,\n",
        "        idcliente INT,\n",
        "        idusuario INT,\n",
        "        tipo_comprobante VARCHAR(20),\n",
        "        serie_comprobante VARCHAR(7),\n",
        "        num_comprobante VARCHAR(10),\n",
        "        fecha DATETIME,\n",
        "        impuesto DECIMAL(4, 2),\n",
        "        total DECIMAL(11, 2),\n",
        "        estado VARCHAR(20),\n",
        "        FOREIGN KEY (idcliente) REFERENCES persona(idpersona),\n",
        "        FOREIGN KEY (idusuario) REFERENCES usuario(idusuario)\n",
        "    );\n",
        "''')\n",
        "\n",
        "cursor.execute('''\n",
        "    CREATE TABLE IF NOT EXISTS detalle_venta(\n",
        "        iddetalle_venta INT PRIMARY KEY AUTO_INCREMENT,\n",
        "        idventa INT,\n",
        "        idarticulo INT,\n",
        "        cantidad INT,\n",
        "        precio DECIMAL(11, 2),\n",
        "        descuento DECIMAL(11, 2),\n",
        "        FOREIGN KEY (idventa) REFERENCES venta(idventa)\n",
        "    );\n",
        "''')\n",
        "\n",
        "cursor.execute('''\n",
        "    CREATE TABLE IF NOT EXISTS detalle_ingreso(\n",
        "        iddetalle_ingreso INT PRIMARY KEY AUTO_INCREMENT,\n",
        "        idingreso INT,\n",
        "        idarticulo INT,\n",
        "        cantidad INT,\n",
        "        precio DECIMAL(11, 2),\n",
        "        FOREIGN KEY (idingreso) REFERENCES ingreso(idingreso)\n",
        "    );\n",
        "''')\n",
        "\n",
        "conn.commit()\n",
        "cursor.close()"
      ],
      "metadata": {
        "id": "lUyuzSXneFZR"
      },
      "execution_count": null,
      "outputs": []
    },
    {
      "cell_type": "code",
      "source": [
        "# QUERIES DE INSERTAR PARA MYSQL\n",
        "\n",
        "insert_MYSQL_categoria = \"\"\"\n",
        "    INSERT INTO categoria (nombre, descripcion, estado)\n",
        "    VALUES (%s, %s, %s)\n",
        "\"\"\"\n",
        "\n",
        "insert_MYSQL_articulo = \"\"\"\n",
        "    INSERT INTO articulo (idcategoria, codigo, nombre, precio_venta, stock, descripcion, imagen, estado)\n",
        "    VALUES (%s, %s, %s, %s, %s, %s, %s, %s)\n",
        "\"\"\"\n",
        "\n",
        "insert_MYSQL_persona = \"\"\"\n",
        "    INSERT INTO persona (tipo_persona, nombre, tipo_documento, num_documento, direccion, telefono, email)\n",
        "    VALUES (%s, %s, %s, %s, %s, %s, %s)\n",
        "\"\"\"\n",
        "\n",
        "insert_MYSQL_rol = \"\"\"\n",
        "    INSERT INTO rol (nombre, descripcion, estado)\n",
        "    VALUES (%s, %s, %s)\n",
        "\"\"\"\n",
        "\n",
        "insert_MYSQL_usuario = \"\"\"\n",
        "    INSERT INTO usuario (idrol, nombre, tipo_documento, num_documento, direccion, telefono, email, clave, estado)\n",
        "    VALUES (%s, %s, %s, %s, %s, %s, %s, %s, %s)\n",
        "\"\"\"\n",
        "\n",
        "insert_MYSQL_ingreso = \"\"\"\n",
        "    INSERT INTO ingreso (idproveedor, idusuario, tipo_comprobante, serie_comprobante, num_comprobante, fecha, impuesto, total, estado)\n",
        "    VALUES (%s, %s, %s, %s, %s, %s, %s, %s, %s)\n",
        "\"\"\"\n",
        "\n",
        "insert_MYSQL_venta = \"\"\"\n",
        "    INSERT INTO venta (idcliente, idusuario, tipo_comprobante, serie_comprobante, num_comprobante, fecha, impuesto, total, estado)\n",
        "    VALUES (%s, %s, %s, %s, %s, %s, %s, %s, %s)\n",
        "\"\"\"\n",
        "\n",
        "insert_MYSQL_detalle_venta = \"\"\"\n",
        "    INSERT INTO detalle_venta (idventa, idarticulo, cantidad, precio, descuento)\n",
        "    VALUES (%s, %s, %s, %s, %s)\n",
        "\"\"\"\n",
        "\n",
        "insert_MYSQL_detalle_ingreso = \"\"\"\n",
        "    INSERT INTO detalle_ingreso (idingreso, idarticulo, cantidad, precio)\n",
        "    VALUES (%s, %s, %s, %s)\n",
        "\"\"\""
      ],
      "metadata": {
        "id": "UlnyFrtBeIVM"
      },
      "execution_count": null,
      "outputs": []
    },
    {
      "cell_type": "markdown",
      "source": [
        "## BULK INSERTS MYSQL"
      ],
      "metadata": {
        "id": "dr8zNAqJdweh"
      }
    },
    {
      "cell_type": "code",
      "source": [
        "bulk_insert(conn, insert_MYSQL_categoria, category_data)\n",
        "bulk_insert(conn, insert_MYSQL_articulo, product_data)\n",
        "bulk_insert(conn, insert_MYSQL_rol, role_data)\n",
        "bulk_insert(conn, insert_MYSQL_usuario, user_data)\n",
        "bulk_insert(conn, insert_MYSQL_persona, personas_data)\n",
        "bulk_insert(conn, insert_MYSQL_ingreso, ingreso_data)\n",
        "bulk_insert(conn, insert_MYSQL_detalle_ingreso, detalle_data)\n",
        "bulk_insert(conn, insert_MYSQL_venta, venta_data)\n",
        "bulk_insert(conn, insert_MYSQL_detalle_venta, detalle_venta_data)"
      ],
      "metadata": {
        "id": "bZs5es5Ldf1K"
      },
      "execution_count": null,
      "outputs": []
    },
    {
      "cell_type": "markdown",
      "source": [
        "# DB SQL LITE"
      ],
      "metadata": {
        "id": "Lhg8yT5edFX9"
      }
    },
    {
      "cell_type": "code",
      "source": [
        "conn_sqlite = sqlite3.connect('pj_final.db')"
      ],
      "metadata": {
        "id": "BkdpfqgTQ_ge"
      },
      "execution_count": null,
      "outputs": []
    },
    {
      "cell_type": "code",
      "source": [
        "cursor = conn_sqlite.cursor()\n",
        "\n",
        "# categoria\n",
        "cursor.execute('''\n",
        "    CREATE TABLE IF NOT EXISTS categoria (\n",
        "        idcategoria INTEGER PRIMARY KEY AUTOINCREMENT,\n",
        "        nombre VARCHAR(50) NOT NULL,\n",
        "        descripcion VARCHAR(255),\n",
        "        estado BIT\n",
        "    );\n",
        "''')\n",
        "\n",
        "# articulo\n",
        "cursor.execute('''\n",
        "    CREATE TABLE IF NOT EXISTS articulo (\n",
        "        idarticulo INTEGER PRIMARY KEY AUTOINCREMENT,\n",
        "        idcategoria INTEGER,\n",
        "        codigo VARCHAR(50) NOT NULL,\n",
        "        nombre VARCHAR(100),\n",
        "        precio_venta DECIMAL(11, 2),\n",
        "        stock INT,\n",
        "        descripcion VARCHAR(255),\n",
        "        imagen VARCHAR(20),\n",
        "        estado BIT,\n",
        "        FOREIGN KEY (idcategoria) REFERENCES categoria(idcategoria)\n",
        "    );\n",
        "''')\n",
        "\n",
        "# persona\n",
        "cursor.execute('''\n",
        "    CREATE TABLE IF NOT EXISTS persona(\n",
        "        idpersona INTEGER PRIMARY KEY AUTOINCREMENT,\n",
        "        tipo_persona VARCHAR(20),\n",
        "        nombre VARCHAR(100),\n",
        "        tipo_documento VARCHAR(20),\n",
        "        num_documento VARCHAR(20),\n",
        "        direccion VARCHAR(70),\n",
        "        telefono VARCHAR(20),\n",
        "        email VARCHAR(50)\n",
        "    );\n",
        "''')\n",
        "\n",
        "# rol\n",
        "cursor.execute('''\n",
        "    CREATE TABLE IF NOT EXISTS rol(\n",
        "        idrol INTEGER PRIMARY KEY AUTOINCREMENT,\n",
        "        nombre VARCHAR(30) NOT NULL,\n",
        "        descripcion VARCHAR(255),\n",
        "        estado BIT\n",
        "    );\n",
        "''')\n",
        "\n",
        "# usuario\n",
        "cursor.execute('''\n",
        "    CREATE TABLE IF NOT EXISTS usuario(\n",
        "        idusuario INTEGER PRIMARY KEY AUTOINCREMENT,\n",
        "        idrol INTEGER,\n",
        "        nombre VARCHAR(100),\n",
        "        tipo_documento VARCHAR(20),\n",
        "        num_documento VARCHAR(20),\n",
        "        direccion VARCHAR(20),\n",
        "        telefono VARCHAR(20),\n",
        "        email VARCHAR(50),\n",
        "        clave VARBINARY(255),\n",
        "        estado BIT,\n",
        "        FOREIGN KEY (idrol) REFERENCES rol(idrol)\n",
        "    );\n",
        "''')\n",
        "\n",
        "# ingreso\n",
        "cursor.execute('''\n",
        "    CREATE TABLE IF NOT EXISTS ingreso(\n",
        "        idingreso INTEGER PRIMARY KEY AUTOINCREMENT,\n",
        "        idproveedor INTEGER,\n",
        "        idusuario INTEGER,\n",
        "        tipo_comprobante VARCHAR(20),\n",
        "        serie_comprobante VARCHAR(20),\n",
        "        num_comprobante VARCHAR(10),\n",
        "        fecha DATETIME,\n",
        "        impuesto DECIMAL(4, 2),\n",
        "        total DECIMAL(11, 2),\n",
        "        estado VARCHAR(20),\n",
        "        FOREIGN KEY (idproveedor) REFERENCES persona(idpersona),\n",
        "        FOREIGN KEY (idusuario) REFERENCES usuario(idusuario)\n",
        "    );\n",
        "''')\n",
        "\n",
        "# venta\n",
        "cursor.execute('''\n",
        "    CREATE TABLE IF NOT EXISTS venta(\n",
        "        idventa INTEGER PRIMARY KEY AUTOINCREMENT,\n",
        "        idcliente INTEGER,\n",
        "        idusuario INTEGER,\n",
        "        tipo_comprobante VARCHAR(20),\n",
        "        serie_comprobante VARCHAR(7),\n",
        "        num_comprobante VARCHAR(10),\n",
        "        fecha DATETIME,\n",
        "        impuesto DECIMAL(4, 2),\n",
        "        total DECIMAL(11, 2),\n",
        "        estado VARCHAR(20),\n",
        "        FOREIGN KEY (idcliente) REFERENCES persona(idpersona),\n",
        "        FOREIGN KEY (idusuario) REFERENCES usuario(idusuario)\n",
        "    );\n",
        "''')\n",
        "\n",
        "# detalle_venta\n",
        "cursor.execute('''\n",
        "    CREATE TABLE IF NOT EXISTS detalle_venta(\n",
        "        iddetalle_venta INTEGER PRIMARY KEY AUTOINCREMENT,\n",
        "        idventa INTEGER,\n",
        "        idarticulo INTEGER,\n",
        "        cantidad INT,\n",
        "        precio DECIMAL(11, 2),\n",
        "        descuento DECIMAL(11, 2),\n",
        "        FOREIGN KEY (idventa) REFERENCES venta(idventa)\n",
        "    );\n",
        "''')\n",
        "\n",
        "# detalle_ingreso\n",
        "cursor.execute('''\n",
        "    CREATE TABLE IF NOT EXISTS detalle_ingreso(\n",
        "        iddetalle_ingreso INTEGER PRIMARY KEY AUTOINCREMENT,\n",
        "        idingreso INTEGER,\n",
        "        idarticulo INTEGER,\n",
        "        cantidad INT,\n",
        "        precio DECIMAL(11, 2),\n",
        "        FOREIGN KEY (idingreso) REFERENCES ingreso(idingreso)\n",
        "    );\n",
        "''')\n",
        "\n",
        "conn_sqlite.commit()\n",
        "cursor.close()"
      ],
      "metadata": {
        "id": "SRUenmA7KTPq"
      },
      "execution_count": null,
      "outputs": []
    },
    {
      "cell_type": "code",
      "source": [
        "# insert queries\n",
        "\n",
        "insert_query_categoria = \"\"\"\n",
        "    INSERT INTO categoria (nombre, descripcion, estado)\n",
        "    VALUES (?, ?, ?)\n",
        "\"\"\"\n",
        "\n",
        "insert_query_articulo = \"\"\"\n",
        "    INSERT INTO articulo (idcategoria, codigo, nombre, precio_venta, stock, descripcion, imagen, estado)\n",
        "    VALUES (?, ?, ?, ?, ?, ?, ?, ?)\n",
        "\"\"\"\n",
        "\n",
        "insert_query_persona = \"\"\"\n",
        "    INSERT INTO persona (tipo_persona, nombre, tipo_documento, num_documento, direccion, telefono, email)\n",
        "    VALUES (?, ?, ?, ?, ?, ?, ?)\n",
        "\"\"\"\n",
        "\n",
        "insert_query_rol = \"\"\"\n",
        "    INSERT INTO rol (nombre, descripcion, estado)\n",
        "    VALUES (?, ?, ?)\n",
        "\"\"\"\n",
        "\n",
        "insert_query_usuario = \"\"\"\n",
        "    INSERT INTO usuario (idrol, nombre, tipo_documento, num_documento, direccion, telefono, email, clave, estado)\n",
        "    VALUES (?, ?, ?, ?, ?, ?, ?, ?, ?)\n",
        "\"\"\"\n",
        "\n",
        "insert_query_ingreso = \"\"\"\n",
        "    INSERT INTO ingreso (idproveedor, idusuario, tipo_comprobante, serie_comprobante, num_comprobante, fecha, impuesto, total, estado)\n",
        "    VALUES (?, ?, ?, ?, ?, ?, ?, ?, ?)\n",
        "\"\"\"\n",
        "\n",
        "insert_query_venta = \"\"\"\n",
        "    INSERT INTO venta (idcliente, idusuario, tipo_comprobante, serie_comprobante, num_comprobante, fecha, impuesto, total, estado)\n",
        "    VALUES (?, ?, ?, ?, ?, ?, ?, ?, ?)\n",
        "\"\"\"\n",
        "\n",
        "insert_query_detalle_venta = \"\"\"\n",
        "    INSERT INTO detalle_venta (idventa, idarticulo, cantidad, precio, descuento)\n",
        "    VALUES (?, ?, ?, ?, ?)\n",
        "\"\"\"\n",
        "\n",
        "insert_query_detalle_ingreso = \"\"\"\n",
        "    INSERT INTO detalle_ingreso (idingreso, idarticulo, cantidad, precio)\n",
        "    VALUES (?, ?, ?, ?)\n",
        "\"\"\""
      ],
      "metadata": {
        "id": "XjYZmI6_RAUO"
      },
      "execution_count": null,
      "outputs": []
    },
    {
      "cell_type": "code",
      "source": [
        "bulk_insert(conn_sqlite, insert_query_categoria, category_data)\n",
        "bulk_insert(conn_sqlite, insert_query_articulo, product_data)\n",
        "bulk_insert(conn_sqlite, insert_query_rol, role_data)\n",
        "bulk_insert(conn_sqlite, insert_query_usuario, user_data)\n",
        "bulk_insert(conn_sqlite, insert_query_persona, personas_data)\n",
        "bulk_insert(conn_sqlite, insert_query_ingreso, ingreso_data)\n",
        "bulk_insert(conn_sqlite, insert_query_detalle_ingreso, detalle_data)\n",
        "bulk_insert(conn_sqlite, insert_query_venta, venta_data)\n",
        "bulk_insert(conn_sqlite, insert_query_detalle_venta, detalle_venta_data)"
      ],
      "metadata": {
        "colab": {
          "base_uri": "https://localhost:8080/"
        },
        "id": "1VqiFdk4RGL7",
        "outputId": "5e74e8d5-f53b-4cce-95b7-9452796b0edd"
      },
      "execution_count": null,
      "outputs": [
        {
          "output_type": "stream",
          "name": "stdout",
          "text": [
            "Bulk data inserted successfully\n",
            "Bulk data inserted successfully\n",
            "Bulk data inserted successfully\n",
            "Bulk data inserted successfully\n",
            "Bulk data inserted successfully\n",
            "Bulk data inserted successfully\n",
            "Bulk data inserted successfully\n",
            "Bulk data inserted successfully\n",
            "Bulk data inserted successfully\n"
          ]
        }
      ]
    },
    {
      "cell_type": "code",
      "source": [
        "cursor = conn_sqlite.cursor()\n",
        "\n",
        "cursor.execute(\"SELECT * FROM categoria;\")\n",
        "rows = cursor.fetchall()\n",
        "for row in rows:\n",
        "    print(row)\n",
        "\n",
        "cursor.close()"
      ],
      "metadata": {
        "id": "li8YtY1LUgzS"
      },
      "execution_count": null,
      "outputs": []
    },
    {
      "cell_type": "code",
      "source": [
        "cursor = conn_sqlite.cursor()\n",
        "\n",
        "cursor.execute(\"SELECT * FROM articulo;\")\n",
        "rows = cursor.fetchall()\n",
        "for row in rows:\n",
        "    print(row)\n",
        "\n",
        "cursor.close()"
      ],
      "metadata": {
        "id": "R5BHGKBdU210"
      },
      "execution_count": null,
      "outputs": []
    },
    {
      "cell_type": "code",
      "source": [
        "cursor = conn_sqlite.cursor()\n",
        "\n",
        "cursor.execute(\"SELECT * FROM persona;\")\n",
        "rows = cursor.fetchall()\n",
        "for row in rows:\n",
        "    print(row)\n",
        "\n",
        "cursor.close()"
      ],
      "metadata": {
        "id": "Eo8pjnhmU7M0"
      },
      "execution_count": null,
      "outputs": []
    },
    {
      "cell_type": "code",
      "source": [
        "cursor = conn_sqlite.cursor()\n",
        "\n",
        "cursor.execute(\"SELECT * FROM rol;\")\n",
        "rows = cursor.fetchall()\n",
        "for row in rows:\n",
        "    print(row)\n",
        "\n",
        "cursor.close()"
      ],
      "metadata": {
        "id": "U-nar92NVAyk"
      },
      "execution_count": null,
      "outputs": []
    },
    {
      "cell_type": "code",
      "source": [
        "cursor = conn_sqlite.cursor()\n",
        "cursor.execute(\"SELECT * FROM usuario;\")\n",
        "rows = cursor.fetchall()\n",
        "for row in rows:\n",
        "    print(row)\n",
        "cursor.close()"
      ],
      "metadata": {
        "id": "NwpxmGfDVIDD"
      },
      "execution_count": null,
      "outputs": []
    },
    {
      "cell_type": "code",
      "source": [
        "cursor = conn_sqlite.cursor()\n",
        "cursor.execute(\"SELECT * FROM ingreso;\")\n",
        "rows = cursor.fetchall()\n",
        "for row in rows:\n",
        "    print(row)\n",
        "cursor.close()"
      ],
      "metadata": {
        "id": "Lg22dKRQVWLi"
      },
      "execution_count": null,
      "outputs": []
    },
    {
      "cell_type": "code",
      "source": [
        "cursor = conn_sqlite.cursor()\n",
        "cursor.execute(\"SELECT * FROM venta;\")\n",
        "rows = cursor.fetchall()\n",
        "for row in rows:\n",
        "    print(row)\n",
        "cursor.close()"
      ],
      "metadata": {
        "id": "1ozuInMfVXsW"
      },
      "execution_count": null,
      "outputs": []
    },
    {
      "cell_type": "code",
      "source": [
        "cursor = conn_sqlite.cursor()\n",
        "cursor.execute(\"SELECT * FROM detalle_venta;\")\n",
        "rows = cursor.fetchall()\n",
        "for row in rows:\n",
        "    print(row)\n",
        "cursor.close()"
      ],
      "metadata": {
        "id": "YbEZzxheVagZ"
      },
      "execution_count": null,
      "outputs": []
    },
    {
      "cell_type": "code",
      "source": [
        "cursor = conn_sqlite.cursor()\n",
        "cursor.execute(\"SELECT * FROM detalle_ingreso;\")\n",
        "rows = cursor.fetchall()\n",
        "for row in rows:\n",
        "    print(row)\n",
        "cursor.close()"
      ],
      "metadata": {
        "id": "athOB0caVcpN"
      },
      "execution_count": null,
      "outputs": []
    },
    {
      "cell_type": "code",
      "source": [
        "import csv\n",
        "import sqlite3\n",
        "\n",
        "# Function to export a table to a CSV file\n",
        "def export_table_to_csv(conn, table_name, csv_file_path):\n",
        "    cursor = conn.cursor()\n",
        "    cursor.execute(f\"SELECT * FROM {table_name};\")\n",
        "    rows = cursor.fetchall()\n",
        "\n",
        "    # Get column headers\n",
        "    columns = [description[0] for description in cursor.description]\n",
        "\n",
        "    with open(csv_file_path, 'w', newline='', encoding='utf-8') as file:\n",
        "        csv_writer = csv.writer(file)\n",
        "        csv_writer.writerow(columns)  # write the headers\n",
        "        csv_writer.writerows(rows)  # write the data\n",
        "\n",
        "    print(f\"Table {table_name} exported to {csv_file_path}\")\n",
        "\n",
        "# Example usage\n",
        "conn_sqlite = sqlite3.connect('pj_final.db')  # Connect to your database\n",
        "\n",
        "# Export each table to a separate CSV file\n",
        "export_table_to_csv(conn_sqlite, 'categoria', 'categoria.csv')\n",
        "export_table_to_csv(conn_sqlite, 'articulo', 'articulo.csv')\n",
        "export_table_to_csv(conn_sqlite, 'persona', 'persona.csv')\n",
        "export_table_to_csv(conn_sqlite, 'rol', 'rol.csv')\n",
        "export_table_to_csv(conn_sqlite, 'usuario', 'usuario.csv')\n",
        "export_table_to_csv(conn_sqlite, 'ingreso', 'ingreso.csv')\n",
        "export_table_to_csv(conn_sqlite, 'venta', 'venta.csv')\n",
        "export_table_to_csv(conn_sqlite, 'detalle_venta', 'detalle_venta.csv')\n",
        "export_table_to_csv(conn_sqlite, 'detalle_ingreso', 'detalle_ingreso.csv')\n",
        "\n",
        "conn_sqlite.close()  # Close the database connection\n"
      ],
      "metadata": {
        "colab": {
          "base_uri": "https://localhost:8080/"
        },
        "id": "aAG0SxUYVj6K",
        "outputId": "fd45186f-2a5e-4043-a5c1-08c4379c2bf5"
      },
      "execution_count": null,
      "outputs": [
        {
          "output_type": "stream",
          "name": "stdout",
          "text": [
            "Table categoria exported to categoria.csv\n",
            "Table articulo exported to articulo.csv\n",
            "Table persona exported to persona.csv\n",
            "Table rol exported to rol.csv\n",
            "Table usuario exported to usuario.csv\n",
            "Table ingreso exported to ingreso.csv\n",
            "Table venta exported to venta.csv\n",
            "Table detalle_venta exported to detalle_venta.csv\n",
            "Table detalle_ingreso exported to detalle_ingreso.csv\n"
          ]
        }
      ]
    }
  ]
}